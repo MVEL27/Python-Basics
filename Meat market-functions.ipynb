{
 "cells": [
  {
   "cell_type": "code",
   "execution_count": 17,
   "id": "4e4d6093",
   "metadata": {},
   "outputs": [],
   "source": [
    "def meatmarket(kilos):\n",
    "    '''this function is used to illustrate a sales portal for online meatmarket'''\n",
    "    print('products:')\n",
    "    print('1.chicken')\n",
    "    print('2.mutton')\n",
    "    print('3.seafoods')\n",
    "    ch=int(input('enter the option: '))\n",
    "    if(ch==1):\n",
    "        print(chicken(kilos))\n",
    "    elif(ch==2):\n",
    "        print(mutton(kilos))\n",
    "    elif(ch==3):\n",
    "        print(seafoods(kilos))\n",
    "        \n",
    "        \n",
    "        \n",
    "    \n",
    "    "
   ]
  },
  {
   "cell_type": "code",
   "execution_count": 15,
   "id": "c30e4697",
   "metadata": {},
   "outputs": [
    {
     "name": "stdout",
     "output_type": "stream",
     "text": [
      "products:\n",
      "1.chicken\n",
      "2.mutton\n",
      "3.seafoods\n",
      "enter the option: 2\n",
      "price of mutton: 537.5\n",
      "None\n"
     ]
    }
   ],
   "source": [
    "meatmarket(1.25)"
   ]
  },
  {
   "cell_type": "code",
   "execution_count": 1,
   "id": "4319fc0b",
   "metadata": {},
   "outputs": [],
   "source": [
    "def chicken(kilos):\n",
    "    print('products:')\n",
    "    print('1.broiler')\n",
    "    print('2.country')\n",
    "    pro=int(input('select the options: '))\n",
    "    if(pro==1):\n",
    "        broiler=kilos*150\n",
    "        print('price of broiler:',broiler)\n",
    "    elif(pro==2):\n",
    "        country=kilos*150\n",
    "        print('price of countrty:',country)\n",
    "        \n",
    "    "
   ]
  },
  {
   "cell_type": "code",
   "execution_count": 3,
   "id": "aa83ef35",
   "metadata": {},
   "outputs": [
    {
     "name": "stdout",
     "output_type": "stream",
     "text": [
      "products:\n",
      "1.broiler\n",
      "2.country\n",
      "select the options: 2\n",
      "price of countrty: 262.5\n"
     ]
    }
   ],
   "source": [
    "chicken(1.75)"
   ]
  },
  {
   "cell_type": "code",
   "execution_count": 5,
   "id": "1cb65b69",
   "metadata": {},
   "outputs": [],
   "source": [
    "def mutton(kilos):\n",
    "    price=kilos*430\n",
    "    print('price of mutton:',price)"
   ]
  },
  {
   "cell_type": "code",
   "execution_count": 6,
   "id": "1f4c6d39",
   "metadata": {},
   "outputs": [
    {
     "name": "stdout",
     "output_type": "stream",
     "text": [
      "price of mutton: 537.5\n"
     ]
    }
   ],
   "source": [
    "mutton(1.25)"
   ]
  },
  {
   "cell_type": "code",
   "execution_count": 7,
   "id": "7056e61c",
   "metadata": {},
   "outputs": [],
   "source": [
    "def seafoods(kilos):\n",
    "    print('products:')\n",
    "    print('1.fish')\n",
    "    print('2.prawns')\n",
    "    print('3.crabs')\n",
    "    seapro=int(input('select the options: '))\n",
    "    if(seapro==1):\n",
    "        price=260*kilos\n",
    "        print('price of fish:',price)\n",
    "    elif(seapro==2):\n",
    "        price=360*kilos\n",
    "        print('price of prawns:',price)\n",
    "    elif(seapro==3):\n",
    "        price=360*kilos\n",
    "        print('price of crabs:',price)\n",
    "    "
   ]
  },
  {
   "cell_type": "code",
   "execution_count": 9,
   "id": "08b26ea5",
   "metadata": {},
   "outputs": [
    {
     "name": "stdout",
     "output_type": "stream",
     "text": [
      "products:\n",
      "1.fish\n",
      "2.prawns\n",
      "3.crabs\n",
      "select the options: 3\n",
      "price of crabs: 1350.0\n"
     ]
    }
   ],
   "source": [
    "seafoods(3.75)"
   ]
  }
 ],
 "metadata": {
  "kernelspec": {
   "display_name": "Python 3 (ipykernel)",
   "language": "python",
   "name": "python3"
  },
  "language_info": {
   "codemirror_mode": {
    "name": "ipython",
    "version": 3
   },
   "file_extension": ".py",
   "mimetype": "text/x-python",
   "name": "python",
   "nbconvert_exporter": "python",
   "pygments_lexer": "ipython3",
   "version": "3.10.9"
  }
 },
 "nbformat": 4,
 "nbformat_minor": 5
}
