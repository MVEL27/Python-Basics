{
 "cells": [
  {
   "cell_type": "code",
   "execution_count": 2,
   "id": "05f081ba",
   "metadata": {},
   "outputs": [],
   "source": [
    "def retailsales():\n",
    "    print('1.clothing')\n",
    "    print('2.stationaries')\n",
    "    print('3.fmcg')\n",
    "    ch=int(input('choose category: '))\n",
    "    \n",
    "    '''this function is used to provide sales portal for consumers'''\n",
    "    if(ch==1):\n",
    "        sex=str(input('enter the sex: '))\n",
    "        qty=int(input('enter the qty: '))\n",
    "        print(apparel(sex,qty))\n",
    "    elif(ch==2):\n",
    "        kind=str(input('enter the kind: '))\n",
    "        qty=int(input('enter the qty: '))\n",
    "        print(officeequip(kind,qty))\n",
    "    elif(ch==3):\n",
    "        stuff=str(input('enter the stuff: '))\n",
    "        qty=int(input('enter the qty: '))\n",
    "        print(consumergood(stuff,qty))\n",
    "    else:\n",
    "        print('enter a valid option')"
   ]
  },
  {
   "cell_type": "code",
   "execution_count": 5,
   "id": "f50455c6",
   "metadata": {},
   "outputs": [
    {
     "name": "stdout",
     "output_type": "stream",
     "text": [
      "1.clothing\n",
      "2.stationaries\n",
      "3.fmcg\n",
      "choose category: 1\n",
      "enter the sex: f\n",
      "enter the qty: 13\n",
      "chose style:\n",
      "1.sarees\n",
      "2.salwarkameez\n",
      "enter your choice: 2\n",
      "16900\n"
     ]
    }
   ],
   "source": [
    "retailsales()"
   ]
  },
  {
   "cell_type": "code",
   "execution_count": 4,
   "id": "45619336",
   "metadata": {},
   "outputs": [],
   "source": [
    "def apparel(sex,qty):\n",
    "    if(sex=='m'):\n",
    "        print('chose style:')\n",
    "        print('1.shirts')\n",
    "        print('2.pants')\n",
    "        print('3.sportswear')\n",
    "        ch=int(input('enter your choice: '))\n",
    "        if(ch==1):\n",
    "            tot=qty*975\n",
    "            return tot\n",
    "        elif(ch==2):\n",
    "            tot=qty*1200\n",
    "            return tot\n",
    "        elif(ch==3):\n",
    "            tot=qty*2700\n",
    "            return tot\n",
    "    else:\n",
    "        if(sex=='f'):\n",
    "            print('chose style:')\n",
    "            print('1.sarees')\n",
    "            print('2.salwarkameez')\n",
    "            ch=int(input('enter your choice: '))\n",
    "            if(ch==1):\n",
    "                tot=qty*2800\n",
    "                return tot\n",
    "            elif(ch==2):\n",
    "                tot=qty*1300\n",
    "                return tot\n",
    "                    "
   ]
  },
  {
   "cell_type": "code",
   "execution_count": 7,
   "id": "b666efb6",
   "metadata": {},
   "outputs": [
    {
     "name": "stdout",
     "output_type": "stream",
     "text": [
      "chose style:\n",
      "1.sarees\n",
      "2.salwarkameez\n",
      "enter your choice: 2\n",
      "price= 16900\n"
     ]
    }
   ],
   "source": [
    "print('price=',apparel('f',13))"
   ]
  },
  {
   "cell_type": "code",
   "execution_count": 7,
   "id": "a7cb5758",
   "metadata": {},
   "outputs": [],
   "source": [
    "def officeequip(kind,qty):\n",
    "    if(kind=='pens'):\n",
    "        tot=qty*15\n",
    "        return tot\n",
    "    elif(kind=='files'):\n",
    "        tot=qty*25\n",
    "        return tot"
   ]
  },
  {
   "cell_type": "code",
   "execution_count": 8,
   "id": "8ddd4007",
   "metadata": {},
   "outputs": [
    {
     "data": {
      "text/plain": [
       "250"
      ]
     },
     "execution_count": 8,
     "metadata": {},
     "output_type": "execute_result"
    }
   ],
   "source": [
    "officeequip('files',10)"
   ]
  },
  {
   "cell_type": "code",
   "execution_count": 9,
   "id": "c6516abb",
   "metadata": {},
   "outputs": [],
   "source": [
    "def consumergood(stuff,qty):\n",
    "    if(stuff=='detergent'):\n",
    "        tot=qty*3600\n",
    "        return tot\n",
    "    elif(stuff=='soaps'):\n",
    "        tot=qty*20\n",
    "        return tot"
   ]
  },
  {
   "cell_type": "code",
   "execution_count": 10,
   "id": "97b8d812",
   "metadata": {},
   "outputs": [
    {
     "data": {
      "text/plain": [
       "36000"
      ]
     },
     "execution_count": 10,
     "metadata": {},
     "output_type": "execute_result"
    }
   ],
   "source": [
    "consumergood('detergent',10)"
   ]
  }
 ],
 "metadata": {
  "kernelspec": {
   "display_name": "Python 3 (ipykernel)",
   "language": "python",
   "name": "python3"
  },
  "language_info": {
   "codemirror_mode": {
    "name": "ipython",
    "version": 3
   },
   "file_extension": ".py",
   "mimetype": "text/x-python",
   "name": "python",
   "nbconvert_exporter": "python",
   "pygments_lexer": "ipython3",
   "version": "3.10.9"
  }
 },
 "nbformat": 4,
 "nbformat_minor": 5
}
