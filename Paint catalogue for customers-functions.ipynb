{
 "cells": [
  {
   "cell_type": "code",
   "execution_count": 17,
   "id": "c91de308",
   "metadata": {},
   "outputs": [],
   "source": [
    "def paintcatalogue():\n",
    "    '''this function will help customer to arrive paint cost for the house'''\n",
    "    print('1.interior')\n",
    "    print('2.exterior')\n",
    "    ch=int(input('choose an option: '))\n",
    "    if(ch==1):\n",
    "        print(inside())\n",
    "    elif(ch==2):\n",
    "        print(outside())\n",
    "    "
   ]
  },
  {
   "cell_type": "code",
   "execution_count": 19,
   "id": "9b5c884e",
   "metadata": {
    "scrolled": true
   },
   "outputs": [
    {
     "name": "stdout",
     "output_type": "stream",
     "text": [
      "1.interior\n",
      "2.exterior\n",
      "choose an option: 1\n",
      "enter the carpet area(sqft): 1200\n",
      "1.royale\n",
      "2.apcolite\n",
      "3.tractor\n",
      "choose a product: 3\n",
      "38400\n"
     ]
    }
   ],
   "source": [
    "paintcatalogue()"
   ]
  },
  {
   "cell_type": "code",
   "execution_count": 2,
   "id": "86f9abd3",
   "metadata": {},
   "outputs": [],
   "source": [
    "def inside():\n",
    "    size=int(input('enter the carpet area(sqft): '))\n",
    "    print('choose a product:')\n",
    "    print('1.royale')\n",
    "    print('2.apcolite')\n",
    "    print('3.tractor')\n",
    "    a=int(input('choose a product: '))\n",
    "    if(a==1):\n",
    "        royale=34*size\n",
    "        return royale\n",
    "    elif(a==2):\n",
    "        apcolite=19*size\n",
    "        return apcolite\n",
    "    elif(a==3):\n",
    "        tractor=32*size\n",
    "        return tractor\n",
    "            "
   ]
  },
  {
   "cell_type": "code",
   "execution_count": 4,
   "id": "ff8915dd",
   "metadata": {},
   "outputs": [
    {
     "name": "stdout",
     "output_type": "stream",
     "text": [
      "enter the carpet area(sqft): 1200\n",
      "1.royale\n",
      "2.apcolite\n",
      "3.tractor\n",
      "choose a product: 3\n"
     ]
    },
    {
     "data": {
      "text/plain": [
       "38400"
      ]
     },
     "execution_count": 4,
     "metadata": {},
     "output_type": "execute_result"
    }
   ],
   "source": [
    "inside()"
   ]
  },
  {
   "cell_type": "markdown",
   "id": "89395b64",
   "metadata": {},
   "source": []
  },
  {
   "cell_type": "markdown",
   "id": "2941bdca",
   "metadata": {},
   "source": []
  },
  {
   "cell_type": "code",
   "execution_count": 14,
   "id": "0a2f9935",
   "metadata": {},
   "outputs": [],
   "source": [
    "def outside():\n",
    "    size=int(input('enter the carpet area(sqft): '))\n",
    "    print('choose a product:')\n",
    "    print('1.ultima')\n",
    "    print('2.apex')\n",
    "    print('3.ace')\n",
    "    b=int(input('choose a product: '))\n",
    "    if(b==1):\n",
    "        ultima=26*size\n",
    "        return ultima\n",
    "    elif(b==2):\n",
    "        apex=23*size\n",
    "        return \n",
    "    elif(b==3):\n",
    "        ace=38*size\n",
    "        return ace"
   ]
  },
  {
   "cell_type": "code",
   "execution_count": 15,
   "id": "959b549b",
   "metadata": {},
   "outputs": [
    {
     "name": "stdout",
     "output_type": "stream",
     "text": [
      "enter the carpet area(sqft): 1200\n",
      "choose a product:\n",
      "1.ultima\n",
      "2.apex\n",
      "3.ace\n",
      "choose a product: 3\n"
     ]
    },
    {
     "data": {
      "text/plain": [
       "45600"
      ]
     },
     "execution_count": 15,
     "metadata": {},
     "output_type": "execute_result"
    }
   ],
   "source": [
    "outside()"
   ]
  }
 ],
 "metadata": {
  "kernelspec": {
   "display_name": "Python 3 (ipykernel)",
   "language": "python",
   "name": "python3"
  },
  "language_info": {
   "codemirror_mode": {
    "name": "ipython",
    "version": 3
   },
   "file_extension": ".py",
   "mimetype": "text/x-python",
   "name": "python",
   "nbconvert_exporter": "python",
   "pygments_lexer": "ipython3",
   "version": "3.10.9"
  }
 },
 "nbformat": 4,
 "nbformat_minor": 5
}
