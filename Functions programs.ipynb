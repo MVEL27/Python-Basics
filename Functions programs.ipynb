{
 "cells": [
  {
   "cell_type": "code",
   "execution_count": 1,
   "id": "c0bb4515",
   "metadata": {},
   "outputs": [],
   "source": [
    "def bloodbank(age,cell_count,blood_group):\n",
    "    '''this function is used to check the credibility of blood donation'''\n",
    "    print('age=',age)\n",
    "    print('cell_count=',cell_count)\n",
    "    print('blood_group=',blood_group)\n",
    "    if(age>=18):\n",
    "        if(blood_group=='o+' and cell_count>12000):\n",
    "            print('allow for blood donation')\n",
    "        else:\n",
    "            print('blood group or cell count not matching')\n",
    "    else:\n",
    "        print('not eligible')"
   ]
  },
  {
   "cell_type": "code",
   "execution_count": 3,
   "id": "77e1d9b3",
   "metadata": {},
   "outputs": [
    {
     "name": "stdout",
     "output_type": "stream",
     "text": [
      "age= 19\n",
      "cell_count= 13500\n",
      "blood_group= o+\n",
      "allow for blood donation\n"
     ]
    }
   ],
   "source": [
    "bloodbank(19,13500,'o+')"
   ]
  },
  {
   "cell_type": "code",
   "execution_count": 4,
   "id": "b3037e3d",
   "metadata": {},
   "outputs": [],
   "source": [
    "def premium(idv):\n",
    "    print('idv=',idv)\n",
    "    if(idv<=100000 and idv>50000):\n",
    "        print('first case')\n",
    "        ncb=0.45\n",
    "        passengersact=30000\n",
    "        tpc=1500\n",
    "        prem=((idv-ncb)+passengersact+tpc)\n",
    "        print('yrly premium amt for policy renewal is',prem)\n",
    "    elif(idv<=50000 and idv>30000):\n",
    "        ncb=.30\n",
    "        passengersact=2500\n",
    "        tpc=1100\n",
    "        prem=((idv-ncb)+passengersact+tpc)\n",
    "        print('yrly premium amt for policy renewal is',prem)\n",
    "    elif(idv<=30000 and idv>25000):\n",
    "        ncb=.25\n",
    "        passengersact=2000\n",
    "        tpc=1000\n",
    "        prem=((idv-ncb)+passengersact+tpc)\n",
    "        print('yrly premium amt for policy renewal is',prem)\n",
    "    elif(idv<=25000 and idv>10000):\n",
    "        ncb=.18\n",
    "        passengersact=1200\n",
    "        tpc=700\n",
    "        prem=((idv-ncb)+passengersact+tpc)\n",
    "        print('yrly premium amt for policy renewal is',prem)\n",
    "    else:\n",
    "        print('enter a valid policy no')"
   ]
  },
  {
   "cell_type": "code",
   "execution_count": 6,
   "id": "9d226b98",
   "metadata": {},
   "outputs": [
    {
     "name": "stdout",
     "output_type": "stream",
     "text": [
      "idv= 43000\n",
      "yrly premium amt for policy renewal is 46599.7\n"
     ]
    }
   ],
   "source": [
    "premium(43000)"
   ]
  },
  {
   "cell_type": "code",
   "execution_count": 7,
   "id": "f9ea146b",
   "metadata": {},
   "outputs": [],
   "source": [
    "def Bonus(mon,less):\n",
    "    '''this function is used to calculate the yrly bonus amount for staff & labours''' \n",
    "    if(mon<=21000):\n",
    "        print('labour category')\n",
    "        lessamt=less*45\n",
    "        bon=(((mon*12)-lessamt))*0.0833\n",
    "        print('yrly bonus amt is',bon)\n",
    "    elif(mon>21000):\n",
    "        print('staff category')\n",
    "        lessamt=less*60\n",
    "        bon=(((mon*12)-lessamt))*.1075\n",
    "        print('yrly bonus amt is',bon)\n",
    "    else:\n",
    "        print('enter a valid input')"
   ]
  },
  {
   "cell_type": "code",
   "execution_count": 8,
   "id": "1cec8a1d",
   "metadata": {},
   "outputs": [
    {
     "name": "stdout",
     "output_type": "stream",
     "text": [
      "labour category\n",
      "yrly bonus amt is 17611.7025\n"
     ]
    }
   ],
   "source": [
    "Bonus(17900,75)"
   ]
  },
  {
   "cell_type": "code",
   "execution_count": null,
   "id": "719a187b",
   "metadata": {},
   "outputs": [],
   "source": []
  },
  {
   "cell_type": "code",
   "execution_count": null,
   "id": "82f9b005",
   "metadata": {},
   "outputs": [],
   "source": []
  },
  {
   "cell_type": "code",
   "execution_count": null,
   "id": "4b481d54",
   "metadata": {},
   "outputs": [],
   "source": []
  }
 ],
 "metadata": {
  "kernelspec": {
   "display_name": "Python 3 (ipykernel)",
   "language": "python",
   "name": "python3"
  },
  "language_info": {
   "codemirror_mode": {
    "name": "ipython",
    "version": 3
   },
   "file_extension": ".py",
   "mimetype": "text/x-python",
   "name": "python",
   "nbconvert_exporter": "python",
   "pygments_lexer": "ipython3",
   "version": "3.10.9"
  }
 },
 "nbformat": 4,
 "nbformat_minor": 5
}
