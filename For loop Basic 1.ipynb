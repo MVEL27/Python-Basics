{
 "cells": [
  {
   "cell_type": "code",
   "execution_count": 1,
   "id": "0d5a5ad2",
   "metadata": {},
   "outputs": [
    {
     "name": "stdout",
     "output_type": "stream",
     "text": [
      "the sum of natural numbers <=  1 is 1\n",
      "the sum of natural numbers <=  2 is 3\n",
      "the sum of natural numbers <=  3 is 6\n",
      "the sum of natural numbers <=  4 is 10\n",
      "the sum of natural numbers <=  5 is 15\n",
      "the sum of natural numbers <=  6 is 21\n",
      "the sum of natural numbers <=  7 is 28\n"
     ]
    }
   ],
   "source": [
    "# Program to print sum of natural numbers between 1 to 7.print the sum progressively.\n",
    "\n",
    "sum=0\n",
    "for n in range(1,8):\n",
    "    sum+=n\n",
    "    print('the sum of natural numbers <= ',n,'is',sum)\n",
    "    "
   ]
  },
  {
   "cell_type": "code",
   "execution_count": null,
   "id": "afa497fa",
   "metadata": {},
   "outputs": [],
   "source": []
  },
  {
   "cell_type": "code",
   "execution_count": 16,
   "id": "627262be",
   "metadata": {},
   "outputs": [
    {
     "name": "stdout",
     "output_type": "stream",
     "text": [
      "the sum of natural numbers <=  20 is 210\n"
     ]
    }
   ],
   "source": [
    "# Program to print sum of natural numbers less than 20. print the total cumulatively.\n",
    "\n",
    "sum=0\n",
    "for n in range(21):\n",
    "    sum+=n\n",
    "print('the sum of natural numbers <= ',n,'is',sum)\n"
   ]
  },
  {
   "cell_type": "code",
   "execution_count": 10,
   "id": "3f2331e4",
   "metadata": {},
   "outputs": [
    {
     "name": "stdout",
     "output_type": "stream",
     "text": [
      "enter the number: 19\n",
      "the sum of even numbers upto  18 is 90\n"
     ]
    }
   ],
   "source": [
    "# Program to calculate to sum of even upto the range of numbers n.print & get the values of n.\n",
    "\n",
    "n=int(input('enter the number: '))\n",
    "sum=0\n",
    "for n in range(0,n):\n",
    "    if(n%2==0):\n",
    "        sum+=n\n",
    "print('the sum of even numbers upto ',n,'is',sum)"
   ]
  },
  {
   "cell_type": "code",
   "execution_count": 14,
   "id": "39ce6466",
   "metadata": {},
   "outputs": [
    {
     "name": "stdout",
     "output_type": "stream",
     "text": [
      "enter the number: 9\n",
      "9 * 1 = 9\n",
      "9 * 2 = 18\n",
      "9 * 3 = 27\n",
      "9 * 4 = 36\n",
      "9 * 5 = 45\n",
      "9 * 6 = 54\n",
      "9 * 7 = 63\n",
      "9 * 8 = 72\n",
      "9 * 9 = 81\n",
      "9 * 10 = 90\n",
      "9 * 11 = 99\n",
      "9 * 12 = 108\n",
      "9 * 13 = 117\n",
      "9 * 14 = 126\n"
     ]
    }
   ],
   "source": [
    "# write a program to find the multiplication of any number n.use for loop.\n",
    "\n",
    "n=int(input('enter the number: '))\n",
    "product=0\n",
    "for i in range(1,15):\n",
    "    product=n*i\n",
    "    print(n,'*',i,'=',product)"
   ]
  },
  {
   "cell_type": "markdown",
   "id": "2c7a8a99",
   "metadata": {},
   "source": [
    "\n"
   ]
  },
  {
   "cell_type": "code",
   "execution_count": 7,
   "id": "3d7486c7",
   "metadata": {},
   "outputs": [
    {
     "name": "stdout",
     "output_type": "stream",
     "text": [
      "enter the number: 49\n",
      "it is not a prime number\n"
     ]
    }
   ],
   "source": [
    "# program to input a number & test if its a prime number or not\n",
    "\n",
    "n=int(input('enter the number: '))\n",
    "c=int(n/2)+1\n",
    "for a in range(2,c):\n",
    "    if(n%a==0):\n",
    "        print('it is not a prime number')\n",
    "        break\n",
    "else:\n",
    "     print('it is a prime number')\n",
    "        "
   ]
  },
  {
   "cell_type": "code",
   "execution_count": null,
   "id": "a20868ef",
   "metadata": {},
   "outputs": [],
   "source": []
  }
 ],
 "metadata": {
  "kernelspec": {
   "display_name": "Python 3 (ipykernel)",
   "language": "python",
   "name": "python3"
  },
  "language_info": {
   "codemirror_mode": {
    "name": "ipython",
    "version": 3
   },
   "file_extension": ".py",
   "mimetype": "text/x-python",
   "name": "python",
   "nbconvert_exporter": "python",
   "pygments_lexer": "ipython3",
   "version": "3.10.9"
  }
 },
 "nbformat": 4,
 "nbformat_minor": 5
}
